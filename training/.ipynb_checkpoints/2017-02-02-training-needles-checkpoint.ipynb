{
 "cells": [
  {
   "cell_type": "code",
   "execution_count": 1,
   "metadata": {
    "collapsed": false
   },
   "outputs": [
    {
     "name": "stdout",
     "output_type": "stream",
     "text": [
      "/home/ubuntu\n"
     ]
    },
    {
     "name": "stderr",
     "output_type": "stream",
     "text": [
      "Using TensorFlow backend.\n"
     ]
    },
    {
     "name": "stdout",
     "output_type": "stream",
     "text": [
      "/home/ubuntu/preprocessed_data/needles_10-10-10_1.00-1.00-1.00/\n"
     ]
    }
   ],
   "source": [
    "# coding: utf-8\n",
    "\n",
    "# In[1]:\n",
    "\n",
    "from __future__ import division\n",
    "# import joblib\n",
    "import glob\n",
    "import os, re\n",
    "import numpy as np\n",
    "import nrrd\n",
    "import numpy as np\n",
    "from sklearn import datasets, svm, metrics, decomposition\n",
    "# from sklearn.externals import joblib\n",
    "import time\n",
    "# from joblib import Parallel, delayed  \n",
    "import multiprocessing\n",
    "num_cores = multiprocessing.cpu_count()\n",
    "USERPATH = os.path.expanduser(\"~\")\n",
    "print(USERPATH)\n",
    "import six.moves.cPickle as pickle\n",
    "# import tensorflow as tf\n",
    "\n",
    "# import theano\n",
    "# theano.config.device = 'gpu'\n",
    "# theano.config.floatX = 'float32'\n",
    "\n",
    "\n",
    "from keras.preprocessing.image import ImageDataGenerator\n",
    "from keras.models import Sequential\n",
    "from keras.layers.core import Dense, Dropout, Activation, Flatten\n",
    "from keras.layers.convolutional import Convolution1D, MaxPooling1D, ZeroPadding1D, Convolution2D, MaxPooling2D, ZeroPadding2D\n",
    "from keras.layers.convolutional import Convolution3D, MaxPooling3D, ZeroPadding3D\n",
    "from keras.optimizers import SGD, Adadelta, Adagrad\n",
    "from keras.utils import np_utils, generic_utils\n",
    "from keras.utils.np_utils import to_categorical\n",
    "from keras.models import Sequential, model_from_json\n",
    "from keras.layers import Dense\n",
    "from keras.wrappers.scikit_learn import KerasClassifier\n",
    "from keras.callbacks import ModelCheckpoint, TensorBoard\n",
    "\n",
    "from sklearn.cross_validation import cross_val_score\n",
    "from sklearn.preprocessing import LabelEncoder\n",
    "from sklearn.cross_validation import StratifiedKFold\n",
    "from sklearn.preprocessing import StandardScaler\n",
    "from sklearn.pipeline import Pipeline\n",
    "\n",
    "\n",
    "# server = tf.train.Server.create_local_server()\n",
    "# sess = tf.Session(server.target)\n",
    "\n",
    "# from keras import backend as K\n",
    "# K.set_session(sess)\n",
    "\n",
    "# tb = TensorBoard(log_dir='/tmp/tensorboard', histogram_freq=1, write_graph=True)\n",
    "\n",
    "\n",
    "\n",
    "# fix random seed for reproducibility\n",
    "seed = 7\n",
    "# checkpointer = ModelCheckpoint(filepath=\"weights2d.hdf5\", verbose=1, save_best_only=True)\n",
    "patchsize = [10,10,10]\n",
    "data_spacing = [1,1,1]\n",
    "notipsPath = USERPATH + \"/preprocessed_data/notips_%d-%d-%d_%.2f-%.2f-%.2f/\" %(tuple(patchsize)+tuple(data_spacing))\n",
    "tipsPath = USERPATH + \"/preprocessed_data/needles_%d-%d-%d_%.2f-%.2f-%.2f/\" %(tuple(patchsize)+tuple(data_spacing))\n",
    "\n",
    "casesToExclude = [64,77]\n",
    "\n",
    "\n",
    "def getTrainingPaths(tipsPath, cases=[64,77]):\n",
    "    strL = \"\"\n",
    "    for c in cases:\n",
    "        strL+=\"%03d|\"%c\n",
    "    fnames=glob.glob(tipsPath + \"/*/*.nrrd\")\n",
    "    regex=re.compile(\"^((?!%s).)*$\"%strL[:-1])\n",
    "    paths = [m.group(0) for l in fnames for m in [regex.search(l)] if m]\n",
    "    return paths\n",
    "\n",
    "def loadAllDataFromPath(path, casesToExclude):\n",
    "    # path in directorty\n",
    "    \n",
    "#     cubeTipsPath = glob.glob(path + \"/*/*.nrrd\")\n",
    "    cubeTipsPath = getTrainingPaths(path, casesToExclude)\n",
    "    # number of samples\n",
    "    N = len(cubeTipsPath)\n",
    "    \n",
    "    cubeTips = []\n",
    "    data = []\n",
    "    for path_i in cubeTipsPath:\n",
    "        cubeTips.append(nrrd.read(path_i))\n",
    "    for i in range(N):\n",
    "        # c = np.array(cubeTips[i][0])  # for patches of size 20,20,20\n",
    "        c = np.array(cubeTips[i][0][:,:,:]) # for patches of size 10,10,10\n",
    "        if c.shape==tuple(patchsize):\n",
    "            data.append(np.array(c))\n",
    "    output = np.array(data, dtype='float32')\n",
    "    print('number of sample %d' %len(output))\n",
    "    return output\n",
    "\n",
    "\n",
    "print(tipsPath)\n",
    "# tips = loadAllDataFromPath(tipsPath, casesToExclude)\n",
    "# notips = loadAllDataFromPath(notipsPath, casesToExclude)[:3*len(tips)]"
   ]
  },
  {
   "cell_type": "code",
   "execution_count": 2,
   "metadata": {
    "collapsed": false
   },
   "outputs": [
    {
     "name": "stdout",
     "output_type": "stream",
     "text": [
      "number of sample 55574\n",
      "number of sample 93906\n",
      "55574 93906\n",
      "target shape: (149480,)\n",
      "data shape: (149480, 10, 10, 10)\n"
     ]
    }
   ],
   "source": [
    "tips = loadAllDataFromPath(tipsPath, casesToExclude)\n",
    "notips = loadAllDataFromPath(notipsPath, casesToExclude)[:5*len(tips)]\n",
    "\n",
    "print(len(tips), len(notips))\n",
    "\n",
    "target_0 = [0 for i in range(len(notips))]\n",
    "target_1 = [1 for i in range(len(tips))]\n",
    "y_train = np.array(target_0 + target_1)\n",
    "print('target shape:', y_train.shape)\n",
    "X_train = np.array(list(notips)+list(tips))\n",
    "\n",
    "print('data shape:', X_train.shape)"
   ]
  },
  {
   "cell_type": "code",
   "execution_count": 4,
   "metadata": {
    "collapsed": false
   },
   "outputs": [
    {
     "name": "stdout",
     "output_type": "stream",
     "text": [
      "Data shape and label shape\n",
      "(149480, 10, 10, 10) (149480,)\n"
     ]
    }
   ],
   "source": [
    "o = 10\n",
    "f_Xtrain = open('X_data_n%d.save'%o, 'wb')\n",
    "f_ytrain = open('y_data_n%d.save'%o, 'wb')\n",
    "\n",
    "pickle.dump(X_train, f_Xtrain, protocol=pickle.HIGHEST_PROTOCOL)\n",
    "pickle.dump(y_train, f_ytrain, protocol=pickle.HIGHEST_PROTOCOL)\n",
    "\n",
    "f_Xtrain.close()\n",
    "f_ytrain.close()\n",
    "\n",
    "\n",
    "# In[6]:\n",
    "\n",
    "# Load the dataset\n",
    "f_Xdata = open('X_data_n%d.save'%o, 'rb')\n",
    "f_ydata = open('y_data_n%d.save'%o, 'rb')\n",
    "\n",
    "X_data_ = pickle.load(f_Xdata)\n",
    "X_data_ = X_data_.astype('float32')\n",
    "\n",
    "# normalize the raw data\n",
    "X_data_ -= np.mean(X_data_)\n",
    "X_data_ /= np.std(X_data_)\n",
    "\n",
    "## second method for normalization\n",
    "# X_data /= 255\n",
    "\n",
    "y_data= pickle.load(f_ydata)\n",
    "y_data_binary = to_categorical(y_data)\n",
    "\n",
    "# encode class values as integers\n",
    "encoder = LabelEncoder()\n",
    "encoder.fit(y_data)\n",
    "y_data = encoder.transform(y_data)\n",
    "\n",
    "print(\"Data shape and label shape\")\n",
    "print(X_data_.shape, y_data.shape)"
   ]
  },
  {
   "cell_type": "code",
   "execution_count": 5,
   "metadata": {
    "collapsed": true
   },
   "outputs": [],
   "source": [
    "# In[7]:\n",
    "\n",
    "def shuffle_in_unison_inplace(a, b):\n",
    "    assert len(a) == len(b)\n",
    "    p = np.random.permutation(len(a))\n",
    "    return a[p], b[p]\n",
    "\n",
    "\n",
    "# init the global var\n",
    "model = 0\n",
    "m = 13\n",
    "conv3d = False\n",
    "conv1d = False\n",
    "dimOrdering = 'tf'"
   ]
  },
  {
   "cell_type": "code",
   "execution_count": 22,
   "metadata": {
    "collapsed": false,
    "scrolled": false
   },
   "outputs": [
    {
     "name": "stdout",
     "output_type": "stream",
     "text": [
      "(149480, 10, 10, 10)\n",
      "Epoch 1/20\n",
      "74740/74740 [==============================] - 3s - loss: 0.3820 - acc: 0.8285     \n",
      "Epoch 2/20\n",
      "74740/74740 [==============================] - 2s - loss: 0.2102 - acc: 0.9262     \n",
      "Epoch 3/20\n",
      "74740/74740 [==============================] - 2s - loss: 0.1854 - acc: 0.9366     \n",
      "Epoch 4/20\n",
      "74740/74740 [==============================] - 2s - loss: 0.1676 - acc: 0.9437     \n",
      "Epoch 5/20\n",
      "74740/74740 [==============================] - 2s - loss: 0.1569 - acc: 0.9492     \n",
      "Epoch 6/20\n",
      "74740/74740 [==============================] - 2s - loss: 0.1514 - acc: 0.9515     \n",
      "Epoch 7/20\n",
      "74740/74740 [==============================] - 2s - loss: 0.1508 - acc: 0.9525     \n",
      "Epoch 8/20\n",
      "74740/74740 [==============================] - 2s - loss: 0.1444 - acc: 0.9545     \n",
      "Epoch 9/20\n",
      "74740/74740 [==============================] - 2s - loss: 0.1434 - acc: 0.9542     \n",
      "Epoch 10/20\n",
      "74740/74740 [==============================] - 2s - loss: 0.1375 - acc: 0.9568     \n",
      "Epoch 11/20\n",
      "74740/74740 [==============================] - 2s - loss: 0.1363 - acc: 0.9579     \n",
      "Epoch 12/20\n",
      "74740/74740 [==============================] - 2s - loss: 0.1301 - acc: 0.9593     \n",
      "Epoch 13/20\n",
      "74740/74740 [==============================] - 2s - loss: 0.1300 - acc: 0.9596     \n",
      "Epoch 14/20\n",
      "74740/74740 [==============================] - 2s - loss: 0.1278 - acc: 0.9599     \n",
      "Epoch 15/20\n",
      "74740/74740 [==============================] - 2s - loss: 0.1286 - acc: 0.9605     \n",
      "Epoch 16/20\n",
      "74740/74740 [==============================] - 2s - loss: 0.1244 - acc: 0.9618     \n",
      "Epoch 17/20\n",
      "74740/74740 [==============================] - 2s - loss: 0.1222 - acc: 0.9625     \n",
      "Epoch 18/20\n",
      "74740/74740 [==============================] - 2s - loss: 0.1243 - acc: 0.9619     \n",
      "Epoch 19/20\n",
      "74740/74740 [==============================] - 2s - loss: 0.1207 - acc: 0.9632     \n",
      "Epoch 20/20\n",
      "74740/74740 [==============================] - 2s - loss: 0.1197 - acc: 0.9638     \n",
      "74240/74740 [============================>.] - ETA: 0sEpoch 1/20\n",
      "74740/74740 [==============================] - 3s - loss: 0.4096 - acc: 0.8103     \n",
      "Epoch 2/20\n",
      "74740/74740 [==============================] - 2s - loss: 0.2077 - acc: 0.9277     \n",
      "Epoch 3/20\n",
      "74740/74740 [==============================] - 2s - loss: 0.1853 - acc: 0.9357     \n",
      "Epoch 4/20\n",
      "74740/74740 [==============================] - 2s - loss: 0.1690 - acc: 0.9437     \n",
      "Epoch 5/20\n",
      "74740/74740 [==============================] - 2s - loss: 0.1586 - acc: 0.9483     \n",
      "Epoch 6/20\n",
      "74740/74740 [==============================] - 2s - loss: 0.1523 - acc: 0.9508     \n",
      "Epoch 7/20\n",
      "74740/74740 [==============================] - 2s - loss: 0.1450 - acc: 0.9533     \n",
      "Epoch 8/20\n",
      "74740/74740 [==============================] - 2s - loss: 0.1409 - acc: 0.9550     \n",
      "Epoch 9/20\n",
      "74740/74740 [==============================] - 2s - loss: 0.1404 - acc: 0.9559     \n",
      "Epoch 10/20\n",
      "74740/74740 [==============================] - 2s - loss: 0.1376 - acc: 0.9565     \n",
      "Epoch 11/20\n",
      "74740/74740 [==============================] - 2s - loss: 0.1353 - acc: 0.9578     \n",
      "Epoch 12/20\n",
      "74740/74740 [==============================] - 2s - loss: 0.1316 - acc: 0.9592     \n",
      "Epoch 13/20\n",
      "74740/74740 [==============================] - 2s - loss: 0.1267 - acc: 0.9613     \n",
      "Epoch 14/20\n",
      "74740/74740 [==============================] - 2s - loss: 0.1249 - acc: 0.9615     \n",
      "Epoch 15/20\n",
      "74740/74740 [==============================] - 2s - loss: 0.1241 - acc: 0.9618     \n",
      "Epoch 16/20\n",
      "74740/74740 [==============================] - 2s - loss: 0.1214 - acc: 0.9630     \n",
      "Epoch 17/20\n",
      "74740/74740 [==============================] - 2s - loss: 0.1216 - acc: 0.9630     \n",
      "Epoch 18/20\n",
      "74740/74740 [==============================] - 2s - loss: 0.1190 - acc: 0.9637     \n",
      "Epoch 19/20\n",
      "74740/74740 [==============================] - 2s - loss: 0.1168 - acc: 0.9649     \n",
      "Epoch 20/20\n",
      "74740/74740 [==============================] - 2s - loss: 0.1179 - acc: 0.9640     \n",
      "74240/74740 [============================>.] - ETA: 0sStandardized: 96.20% (0.05%)\n"
     ]
    },
    {
     "data": {
      "text/plain": [
       "2671"
      ]
     },
     "execution_count": 22,
     "metadata": {},
     "output_type": "execute_result"
    }
   ],
   "source": [
    "def create_baseline():\n",
    "\n",
    "    nb_classes = 1\n",
    "\n",
    "    # create model\n",
    "    global model\n",
    "    if m ==7:\n",
    "        model = Sequential()\n",
    "\n",
    "        model.add(Convolution2D(10, 10, 2, border_mode='same',\n",
    "                                input_shape=(10,10,10)))\n",
    "        model.add(Activation('relu'))\n",
    "        model.add(Convolution2D(10, 3, 3))\n",
    "        model.add(Activation('relu'))\n",
    "        # model.add(MaxPooling2D(pool_size=(2, 2)))\n",
    "        model.add(Dropout(0.1))\n",
    "\n",
    "        model.add(Convolution2D(40, 5, 3, border_mode='same' ))\n",
    "        model.add(Activation('relu'))\n",
    "        model.add(Convolution2D(40, 5, 3, border_mode='same'))\n",
    "        model.add(Activation('relu'))\n",
    "        model.add(Convolution2D(40, 5, 3))\n",
    "        model.add(Activation('relu'))\n",
    "        model.add(MaxPooling2D(pool_size=(2, 2)))\n",
    "        model.add(Dropout(0.1))\n",
    "\n",
    "        model.add(Flatten())\n",
    "        model.add(Dense(480))\n",
    "        model.add(Activation('relu'))\n",
    "        model.add(Dropout(0.5))\n",
    "        model.add(Dense(480))\n",
    "        model.add(Activation('relu'))\n",
    "        model.add(Dropout(0.5))\n",
    "        model.add(Dense(nb_classes))\n",
    "        model.add(Activation('sigmoid'))\n",
    "\n",
    "    if m ==13:\n",
    "        model = Sequential()\n",
    "        model.add(Convolution2D(10, 10, 10, border_mode='same', input_shape=(10,10,10), activation='relu', name='conv1_0'))\n",
    "#         model.add(ZeroPadding2D((2, 2)))\n",
    "        model.add(Convolution2D(10, 5, 5, border_mode='same', activation='relu', name='conv1_1'))\n",
    "        model.add(Convolution2D(10, 10, 10, border_mode='same', activation='relu', name='conv1_2'))\n",
    "#         model.add(Convolution2D(10, 10, 10, border_mode='same', activation='relu', name='conv1_2'))\n",
    "        model.add(MaxPooling2D((2,2)))\n",
    "        model.add(Dropout(0.5))\n",
    "\n",
    "        model.add(Flatten())\n",
    "        model.add(Dense(1000, activation='relu'))\n",
    "        model.add(Dropout(0.5))\n",
    "        model.add(Dense(100, activation='relu'))\n",
    "        model.add(Dropout(0.5))\n",
    "        model.add(Dense(nb_classes, activation='sigmoid'))\n",
    "        \n",
    "\n",
    "    model.compile(loss='binary_crossentropy',\n",
    "                  optimizer='adam',\n",
    "                  metrics=['accuracy'])\n",
    "    \n",
    "    return model\n",
    "\n",
    "# np.random.seed(seed)\n",
    "estimators = []\n",
    "# estimators.append(('standardize', StandardScaler()))\n",
    "estimators.append(('mlp', KerasClassifier(build_fn=create_baseline, nb_epoch=20,\n",
    "                                          batch_size=512, verbose=1)))\n",
    "pipeline = Pipeline(estimators)\n",
    "kfold = StratifiedKFold(y=y_data, n_folds=2, shuffle=True)#, random_state=seed)\n",
    "if not conv1d and dimOrdering == 'th':\n",
    "    X_data = np.swapaxes(X_data_,1,3)\n",
    "    X_data = np.swapaxes(X_data,2,3)\n",
    "    print(X_data.shape)\n",
    "elif conv1d:\n",
    "    print(X_data_.shape)\n",
    "    X_data = X_data_.reshape((X_data_.shape[0], X_data_.shape[1]* X_data_.shape[2], X_data_.shape[3]))\n",
    "    print(X_data.shape)\n",
    "else:\n",
    "    X_data = X_data_\n",
    "\n",
    "if conv3d:\n",
    "    X_data =  np.expand_dims(X_data, 1)\n",
    "    \n",
    "print(X_data.shape)\n",
    "results = cross_val_score(pipeline,X_data, y_data, cv=kfold)\n",
    "print(\"Standardized: %.2f%% (%.2f%%)\" % (results.mean()*100, results.std()*100))\n",
    "\n",
    "json_string = model.to_json()\n",
    "model.save_weights('my_model_weights_2d_%d.h5'%m, overwrite=True)\n",
    "open('my_model_architecture%d.json'%m, 'w').write(json_string)"
   ]
  },
  {
   "cell_type": "code",
   "execution_count": 23,
   "metadata": {
    "collapsed": false
   },
   "outputs": [
    {
     "name": "stdout",
     "output_type": "stream",
     "text": [
      "[1, 1, 1]\n",
      "(60, 50, 90)\n",
      "[10, 10, 10]\n"
     ]
    }
   ],
   "source": [
    "# we load a test case and the model\n",
    "\n",
    "# model = model_from_json(open('my_model_architecture%d.json'%m).read())\n",
    "# model.load_weights('my_model_weights_2d_%d.h5'%m)\n",
    "# model.compile(loss='binary_crossentropy',\n",
    "#               optimizer='adam',\n",
    "#               metrics=['accuracy'])\n",
    "print(data_spacing)\n",
    "nrrdData = nrrd.read(USERPATH + '/preprocessed_data/LabelMaps_%.2f-%.2f-%.2f/064/case.nrrd'%(tuple(data_spacing)))\n",
    "im = nrrdData[0]\n",
    "im = im[100:160,80:130,70:160]\n",
    "s = im.shape\n",
    "print(s)\n",
    "p=10\n",
    "print(patchsize)"
   ]
  },
  {
   "cell_type": "code",
   "execution_count": 24,
   "metadata": {
    "collapsed": false
   },
   "outputs": [],
   "source": [
    "# import pyprind\n",
    "# import sys\n",
    "# def findtips(N):\n",
    "#     '''\n",
    "#     Find the tip in the image by computing testing patches at every voxel position\n",
    "#     TODO: make this method more efficient\n",
    "#     '''\n",
    "#     p0, p1, p2 = patchsize\n",
    "#     xmiddle = s[0]//2\n",
    "#     ymiddle = s[1]//2\n",
    "#     zmiddle = s[2]//2\n",
    "    \n",
    "#     x0= xmiddle - xmiddle//N\n",
    "#     y0= ymiddle - ymiddle//N\n",
    "#     z0= zmiddle - zmiddle//N\n",
    "    \n",
    "#     xe= xmiddle + xmiddle//N\n",
    "#     ye= ymiddle + ymiddle//N\n",
    "#     ze= zmiddle + zmiddle//N\n",
    "    \n",
    "#     tips = []\n",
    "#     bar = pyprind.ProgBar(xmiddle//N*2, title='Find_tip', stream=sys.stdout)\n",
    "#     for xi in range(x0, xe-p0):\n",
    "#         for yi in range(y0, ye-p1):\n",
    "#             vols = [im[xi:xi+p0,yi:yi+p1,zi:zi+p2] for zi in range(z0,ze-p2)]\n",
    "#             # we normalize the data (centered on mean 0 and rescaled in function of the STD)\n",
    "#             volnorm = [ x-np.mean(x) for x in vols]\n",
    "#             volnorm2 = [x/np.std(x) for x in volnorm]\n",
    "#             cube = np.array(volnorm2)\n",
    "#             cube = np.swapaxes(cube, 1,3)\n",
    "# #             cube = np.swapaxes(cube, 2,3)\n",
    "#             if conv3d:\n",
    "#                 cube = np.expand_dims(cube,1)\n",
    "#             res = model.predict_proba(cube, batch_size=ze-p2-z0, verbose=False)\n",
    "#             indices = np.where(res[:,0]==1)\n",
    "#             # we add the coordinates of the center voxel of the patches that tested positive\n",
    "#             for z in indices[0]:\n",
    "#                 tips.append([xi+p0/2,yi+p1/2,z0+p2/2+z])\n",
    "#         bar.update()\n",
    "#     return tips"
   ]
  },
  {
   "cell_type": "code",
   "execution_count": 25,
   "metadata": {
    "collapsed": false
   },
   "outputs": [],
   "source": [
    "import pyprind\n",
    "import sys\n",
    "def gettips(N):\n",
    "    '''\n",
    "    Find the tip in the image by computing testing patches at every voxel position\n",
    "    TODO: make this method more efficient\n",
    "    '''\n",
    "    p0, p1, p2 = patchsize\n",
    "    xmiddle = s[0]//2\n",
    "    ymiddle = s[1]//2\n",
    "    zmiddle = s[2]//2\n",
    "    \n",
    "    x0= xmiddle - xmiddle//N\n",
    "    y0= ymiddle - ymiddle//N\n",
    "    z0= zmiddle - zmiddle//N\n",
    "    \n",
    "    xe= xmiddle + xmiddle//N\n",
    "    ye= ymiddle + ymiddle//N\n",
    "    ze= zmiddle + zmiddle//N\n",
    "    \n",
    "    tips = []\n",
    "    bar = pyprind.ProgBar(xmiddle//N*2, title='Find_tip', stream=sys.stdout)\n",
    "    res = []\n",
    "    for xi in range(x0, xe-p0):\n",
    "        for yi in range(y0, ye-p1):\n",
    "            vols = [im[xi:xi+p0,yi:yi+p1,zi:zi+p2] for zi in range(z0,ze-p2)]\n",
    "            # we normalize the data (centered on mean 0 and rescaled in function of the STD)\n",
    "            volnorm = vols - np.mean(vols)\n",
    "            volnorm2 = volnorm/np.std(volnorm)\n",
    "#             volnorm = [ x-np.mean(x) for x in vols]\n",
    "#             volnorm2 = [x/np.std(x) for x in volnorm]\n",
    "            cube = np.array(volnorm2)\n",
    "            if not conv1d and dimOrdering == 'th':\n",
    "                cube = np.swapaxes(cube, 1,3)\n",
    "            if conv3d:\n",
    "                cube = np.expand_dims(cube,1)\n",
    "            if conv1d:\n",
    "                cube = cube.reshape(cube.shape[0], cube.shape[1]*cube.shape[2],cube.shape[3])\n",
    "            res.append(model.predict_proba(cube, batch_size=ze-p2-z0, verbose=False))\n",
    "        bar.update()\n",
    "    return res\n",
    "\n",
    "def findtips(res, prob):\n",
    "    N=1\n",
    "    p0, p1, p2 = patchsize\n",
    "    xmiddle = s[0]//2\n",
    "    ymiddle = s[1]//2\n",
    "    zmiddle = s[2]//2\n",
    "    \n",
    "    x0= xmiddle - xmiddle//N\n",
    "    y0= ymiddle - ymiddle//N\n",
    "    z0= zmiddle - zmiddle//N\n",
    "    \n",
    "    xe= xmiddle + xmiddle//N\n",
    "    ye= ymiddle + ymiddle//N\n",
    "    ze= zmiddle + zmiddle//N\n",
    "    \n",
    "    i = -1\n",
    "    tips = []\n",
    "    for xi in range(x0, xe-p0):\n",
    "        for yi in range(y0, ye-p1):\n",
    "            i+=1\n",
    "            indices = np.where(res[i][:,0]>=prob)\n",
    "            # we add the coordinates of the center voxel of the patches that tested positive\n",
    "            for z in indices[0]:\n",
    "                tips.append([xi+p0/2,yi+p1/2,z0+p2/2+z])\n",
    "    return tips"
   ]
  },
  {
   "cell_type": "code",
   "execution_count": 26,
   "metadata": {
    "collapsed": false
   },
   "outputs": [],
   "source": [
    "# find the tips for patches with size p\n",
    "pred=gettips(1)"
   ]
  },
  {
   "cell_type": "code",
   "execution_count": 27,
   "metadata": {
    "collapsed": false
   },
   "outputs": [
    {
     "name": "stdout",
     "output_type": "stream",
     "text": [
      "2000\n"
     ]
    },
    {
     "data": {
      "text/plain": [
       "4088"
      ]
     },
     "execution_count": 27,
     "metadata": {},
     "output_type": "execute_result"
    }
   ],
   "source": [
    "print(len(pred))\n",
    "res = findtips(pred, 1)\n",
    "len(res)"
   ]
  },
  {
   "cell_type": "markdown",
   "metadata": {},
   "source": [
    "## Creation of a labelmap from the voxel that tested positive"
   ]
  },
  {
   "cell_type": "code",
   "execution_count": 28,
   "metadata": {
    "collapsed": false
   },
   "outputs": [],
   "source": [
    "mask = np.zeros(im.shape)\n",
    "for coord in res:\n",
    "    mask[int(coord[0]),int(coord[1]),int(coord[2])]=1.0\n",
    "nrrd.write('mask%d.nrrd'%m, mask)\n",
    "nrrd.write('im%d.nrrd'%m, im)"
   ]
  },
  {
   "cell_type": "code",
   "execution_count": 29,
   "metadata": {
    "collapsed": false
   },
   "outputs": [
    {
     "name": "stdout",
     "output_type": "stream",
     "text": [
      "Populating the interactive namespace from numpy and matplotlib\n"
     ]
    },
    {
     "data": {
      "text/plain": [
       "<matplotlib.image.AxesImage at 0x7fb9b7dbc320>"
      ]
     },
     "execution_count": 29,
     "metadata": {},
     "output_type": "execute_result"
    },
    {
     "data": {
      "image/png": "[encoded data removed]",
      "text/plain": [
       "<matplotlib.figure.Figure at 0x7fb9b34c1dd8>"
      ]
     },
     "metadata": {},
     "output_type": "display_data"
    }
   ],
   "source": [
    "%matplotlib inline\n",
    "%pylab inline\n",
    "# We display one axial slice\n",
    "Z = 13\n",
    "fig = plt.figure(figsize=(10,10))\n",
    "ax1 = fig.add_subplot(121)\n",
    "ax1.imshow((np.clip(mask[:,:,Z]*255+im[:,:,Z]/2,a_min=0,a_max=200)).transpose(),  cmap='gray', interpolation='nearest')\n",
    "ax2 = fig.add_subplot(122)\n",
    "ax2.imshow(im[:,:,Z].transpose(), cmap='gray', interpolation='nearest')"
   ]
  },
  {
   "cell_type": "code",
   "execution_count": null,
   "metadata": {
    "collapsed": true
   },
   "outputs": [],
   "source": []
  }
 ],
 "metadata": {
  "anaconda-cloud": {},
  "kernelspec": {
   "display_name": "Python [conda root]",
   "language": "python",
   "name": "conda-root-py"
  },
  "language_info": {
   "codemirror_mode": {
    "name": "ipython",
    "version": 3
   },
   "file_extension": ".py",
   "mimetype": "text/x-python",
   "name": "python",
   "nbconvert_exporter": "python",
   "pygments_lexer": "ipython3",
   "version": "3.5.2"
  }
 },
 "nbformat": 4,
 "nbformat_minor": 0
}
