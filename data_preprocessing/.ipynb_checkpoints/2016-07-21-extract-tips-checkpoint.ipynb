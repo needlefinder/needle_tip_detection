{
 "cells": [
  {
   "cell_type": "markdown",
   "metadata": {},
   "source": [
    "# Extract needle tips and random patchs"
   ]
  },
  {
   "cell_type": "code",
   "execution_count": 1,
   "metadata": {
    "collapsed": false
   },
   "outputs": [
    {
     "name": "stdout",
     "output_type": "stream",
     "text": [
      "Populating the interactive namespace from numpy and matplotlib\n",
      "/Users/GP1514\n"
     ]
    }
   ],
   "source": [
    "from __future__ import division\n",
    "%matplotlib inline\n",
    "%pylab inline\n",
    "\n",
    "import pyprind\n",
    "import glob\n",
    "import os\n",
    "import SimpleITK as sitk\n",
    "import numpy as np\n",
    "import nrrd\n",
    "import numpy as np\n",
    "from sklearn import datasets, svm, metrics, decomposition\n",
    "from sklearn.externals import joblib\n",
    "import time\n",
    "from joblib import Parallel, delayed  \n",
    "import multiprocessing\n",
    "num_cores = multiprocessing.cpu_count()\n",
    "USERPATH = os.path.expanduser(\"~\")\n",
    "print(USERPATH)\n",
    "from mpl_toolkits.mplot3d import Axes3D\n",
    "import six.moves.cPickle as pickle"
   ]
  },
  {
   "cell_type": "markdown",
   "metadata": {},
   "source": []
  },
  {
   "cell_type": "code",
   "execution_count": 155,
   "metadata": {
    "collapsed": false
   },
   "outputs": [],
   "source": [
    "def getPaths(spacing):\n",
    "    labelPath = USERPATH + '/Projects/LabelMaps_%.2f-%.2f-%.2f/*' % tuple(spacing)\n",
    "    print(labelPath)\n",
    "    casePath = glob.glob(labelPath)\n",
    "    volumePath = [cp + '/case.nrrd' for cp in casePath]\n",
    "    return volumePath, casePath\n",
    "\n",
    "def getVolumeAndNeedle(k):\n",
    "    '''\n",
    "    Outputs the volume and needles paths\n",
    "    '''\n",
    "    needlePath  = glob.glob(casePath[k] + '/needle*.nrrd')\n",
    "    return volumePath[k], needlePath\n",
    "\n",
    "def getTipsPos(ndls):\n",
    "    '''\n",
    "    Read the needle labelmaps and outputs the tip positions\n",
    "    '''\n",
    "    needleTips = []\n",
    "    for n in ndls: \n",
    "        ndl = nrrd.read(n)[0]\n",
    "        ztest = (np.where(ndl>0)[2])\n",
    "        if len(ztest):\n",
    "            zmax = np.where(ndl>0)[2].max()\n",
    "            xl,yl = np.where(ndl[...,zmax]>0)\n",
    "            xmax = int(np.mean(xl))\n",
    "            ymax = int(np.mean(yl))\n",
    "            needleTips.append([xmax, ymax, zmax])\n",
    "    return needleTips\n",
    "\n",
    "def getTipsPath(casePath, spacing):\n",
    "    '''\n",
    "    Returns path where to save the tips\n",
    "    '''\n",
    "    return USERPATH + '/Projects/tips_%d-%d-%d_%.2f-%.2f-%.2f/%s' %(tuple(patchsize)+tuple(spacing)+(casePath.split('/')[-1],))\n",
    "\n",
    "def getNoTipsPath(casePath, spacing):\n",
    "    '''\n",
    "    Return path where to save the random patchs\n",
    "    '''\n",
    "    return USERPATH + '/Projects/notips_%d-%d-%d_%.2f-%.2f-%.2f/%s' %(tuple(patchsize)+tuple(spacing)+(casePath.split('/')[-1],))\n",
    "\n",
    "def saveTips(tipsPos, casePath, spacing, patchsize):\n",
    "    '''\n",
    "    Save the tips\n",
    "    '''\n",
    "    tipPath = getTipsPath(casePath, spacing)\n",
    "    vol = nrrd.read(casePath + '/case.nrrd')[0]\n",
    "    for i, tipPos in enumerate(tipsPos):\n",
    "        x, y, z = tipPos\n",
    "        xmin, ymin, zmin = np.array(patchsize)//2\n",
    "        xmin = xmin//spacing[0]\n",
    "        ymin = ymin//spacing[1]\n",
    "        zmin = zmin//spacing[2]\n",
    "        tip = vol[x-xmin:x+xmin, y-ymin:y+ymin, z-zmin:z+zmin]\n",
    "        createDir(tipPath)\n",
    "        nrrd.write(tipPath + '/tip-%d.nrrd'%i, tip)\n",
    "        \n",
    "def saveNoTips(numberOfSamples, casePath, spacing, patchsize):\n",
    "    '''\n",
    "    Save the random cubes\n",
    "    '''\n",
    "    vol = nrrd.read(casePath + '/case.nrrd')[0]\n",
    "    tipPath = getNoTipsPath(casePath, spacing)\n",
    "    for i in range(numberOfSamples):\n",
    "        xmin, ymin, zmin = np.array(patchsize)//2\n",
    "        xmin = xmin//spacing[0]\n",
    "        ymin = ymin//spacing[1]\n",
    "        zmin = zmin//spacing[2]\n",
    "        x = np.random.randint(xmin,vol.shape[0]-xmin)\n",
    "        y = np.random.randint(ymin,vol.shape[1]-ymin)\n",
    "        z = np.random.randint(zmin,vol.shape[2]-zmin)\n",
    "        \n",
    "        tip = vol[x-xmin:x+xmin, y-ymin:y+ymin, z-zmin:z+zmin]\n",
    "        createDir(tipPath)\n",
    "        nrrd.write(tipPath + '/notip-%d.nrrd'%i, tip)\n",
    "        \n",
    "def createDir(directory):\n",
    "    '''\n",
    "    Create a directory if it doesn't exist. Do nothing otherwise.\n",
    "    '''\n",
    "    if not os.path.exists(directory):\n",
    "        os.makedirs(directory)\n",
    "    return 0\n",
    "\n",
    "def extractTips(spacing, patchsize):\n",
    "    '''\n",
    "    Extract all the tips from all the labelmaps\n",
    "    '''\n",
    "    _, casePath = getPaths(spacing)\n",
    "    for k, path in enumerate(casePath):\n",
    "        _, ndls = getVolumeAndNeedle(k)\n",
    "        tipsPos = getTipsPos(ndls)\n",
    "        saveTips(tipsPos, casePath[k], spacing, patchsize)\n",
    "        \n",
    "def extractNoTips(spacing, patchsize, numberOfSamples):\n",
    "    '''\n",
    "    Extract random cases\n",
    "    '''\n",
    "    _, casePath = getPaths(spacing)\n",
    "    for k, path in enumerate(casePath):\n",
    "        _, ndls = getVolumeAndNeedle(k)\n",
    "        saveNoTips(numberOfSamples, casePath[k], spacing, patchsize)"
   ]
  },
  {
   "cell_type": "code",
   "execution_count": null,
   "metadata": {
    "collapsed": false
   },
   "outputs": [
    {
     "name": "stdout",
     "output_type": "stream",
     "text": [
      "/Users/GP1514/Projects/LabelMaps_1.00-1.00-1.00/*\n",
      "/Users/GP1514/Projects/LabelMaps_1.00-1.00-1.00/*\n",
      "/Users/GP1514/Projects/LabelMaps_1.00-1.00-1.00/*\n",
      "/Users/GP1514/Projects/LabelMaps_1.00-1.00-1.00/*\n",
      "/Users/GP1514/Projects/LabelMaps_1.00-1.00-1.00/*\n",
      "/Users/GP1514/Projects/LabelMaps_1.00-1.00-1.00/*\n",
      "/Users/GP1514/Projects/LabelMaps_1.00-1.00-1.00/*\n",
      "/Users/GP1514/Projects/LabelMaps_1.00-1.00-1.00/*\n"
     ]
    }
   ],
   "source": [
    "for spacing in [[1,1,1], [0.6,0.6,1]]:\n",
    "    for patchsize in [[10,10,10], [10,10,20], [5,5,20], [20,20,20]]:\n",
    "        extractTips(spacing, patchsize)\n",
    "        extractNoTips(spacing, patchsize, 200)"
   ]
  }
 ],
 "metadata": {
  "anaconda-cloud": {},
  "kernelspec": {
   "display_name": "Python [Root]",
   "language": "python",
   "name": "Python [Root]"
  },
  "language_info": {
   "codemirror_mode": {
    "name": "ipython",
    "version": 3
   },
   "file_extension": ".py",
   "mimetype": "text/x-python",
   "name": "python",
   "nbconvert_exporter": "python",
   "pygments_lexer": "ipython3",
   "version": "3.5.1"
  }
 },
 "nbformat": 4,
 "nbformat_minor": 0
}
